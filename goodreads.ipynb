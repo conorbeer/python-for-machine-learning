{
 "cells": [
  {
   "cell_type": "markdown",
   "metadata": {},
   "source": [
    "# Goodreads recommender system\n",
    "\n",
    "Creating a book recommender system in Python.\n",
    "\n",
    "Skills tested:\n",
    "\n",
    "Using Pandas to access and explore the dataset.\n",
    "Using Pandas and Python in creating a simple popularity-based book recommender system.\n",
    "Using the Scikit-Learn implementation of TF-IDF Vectorizer in creating a content-based filtering recommender system for book recommendations.\n",
    "Using the Scikit-Learn distance matrices in calculating preferences in the recommender system.\n",
    "\n",
    "A dataset of books from Goodreads known for use in recommendation engines.\n",
    "\n",
    "**Columns Description:**\n",
    "\n",
    "- bookID contains the unique ID for each book/series\n",
    "- title contains the titles of the books\n",
    "- authors contains the author of the particular book\n",
    "- average_rating the average rating of the books, as decided by the users\n",
    "- ISBNISBN (10) number, tells the information about a book - such as edition and publisher\n",
    "- ISBN 13 the new format for ISBN, implemented in 2007. (13 digits)\n",
    "- language_code denotes the language for the books\n",
    "- Num_pages contains the number of pages for the book\n",
    "- Ratings_count contains the number of ratings given for the book\n",
    "- text_reviews_count the count of reviews left by users\n",
    "\n",
    "Submission of your project on GitHub is optional. If you choose to manage your project using GitHub, find guidelines for using GitHub here. Ensure you are coding using your Jupyter Notebook – it will be uploaded to GitHub when you perform a GIT push operation.\n",
    "You are expected to write around 35 lines of code to complete this project."
   ]
  },
  {
   "cell_type": "markdown",
   "metadata": {},
   "source": [
    "## Download the dataset\n",
    "\n",
    "Download the Dataset\n",
    "Method 1\n",
    "Download the dataset from the following link:\n",
    "https://www.kaggle.com/jealousleopard/goodreadsbooks/download"
   ]
  },
  {
   "cell_type": "code",
   "execution_count": 5,
   "metadata": {},
   "outputs": [],
   "source": [
    "import os\n",
    "os.chdir(\"C://Users//cbeer//Desktop//data-science-learning//python-for-machine-learning\")\n",
    "\n",
    "import warnings \n",
    "warnings.filterwarnings('ignore')\n",
    "\n"
   ]
  },
  {
   "cell_type": "markdown",
   "metadata": {},
   "source": [
    "## Read the Dataset\n",
    "Read the dataset into a Pandas Dataframe!"
   ]
  },
  {
   "cell_type": "code",
   "execution_count": 19,
   "metadata": {},
   "outputs": [
    {
     "name": "stderr",
     "output_type": "stream",
     "text": [
      "b'Skipping line 3350: expected 12 fields, saw 13\\nSkipping line 4704: expected 12 fields, saw 13\\nSkipping line 5879: expected 12 fields, saw 13\\nSkipping line 8981: expected 12 fields, saw 13\\n'\n"
     ]
    },
    {
     "data": {
      "text/html": [
       "<div>\n",
       "<style scoped>\n",
       "    .dataframe tbody tr th:only-of-type {\n",
       "        vertical-align: middle;\n",
       "    }\n",
       "\n",
       "    .dataframe tbody tr th {\n",
       "        vertical-align: top;\n",
       "    }\n",
       "\n",
       "    .dataframe thead th {\n",
       "        text-align: right;\n",
       "    }\n",
       "</style>\n",
       "<table border=\"1\" class=\"dataframe\">\n",
       "  <thead>\n",
       "    <tr style=\"text-align: right;\">\n",
       "      <th></th>\n",
       "      <th>bookID</th>\n",
       "      <th>title</th>\n",
       "      <th>authors</th>\n",
       "      <th>average_rating</th>\n",
       "      <th>isbn</th>\n",
       "      <th>isbn13</th>\n",
       "      <th>language_code</th>\n",
       "      <th>num_pages</th>\n",
       "      <th>ratings_count</th>\n",
       "      <th>text_reviews_count</th>\n",
       "      <th>publication_date</th>\n",
       "      <th>publisher</th>\n",
       "    </tr>\n",
       "  </thead>\n",
       "  <tbody>\n",
       "    <tr>\n",
       "      <th>0</th>\n",
       "      <td>1</td>\n",
       "      <td>Harry Potter and the Half-Blood Prince (Harry ...</td>\n",
       "      <td>J.K. Rowling/Mary GrandPré</td>\n",
       "      <td>4.57</td>\n",
       "      <td>0439785960</td>\n",
       "      <td>9780439785969</td>\n",
       "      <td>eng</td>\n",
       "      <td>652</td>\n",
       "      <td>2095690</td>\n",
       "      <td>27591</td>\n",
       "      <td>9/16/2006</td>\n",
       "      <td>Scholastic Inc.</td>\n",
       "    </tr>\n",
       "    <tr>\n",
       "      <th>1</th>\n",
       "      <td>2</td>\n",
       "      <td>Harry Potter and the Order of the Phoenix (Har...</td>\n",
       "      <td>J.K. Rowling/Mary GrandPré</td>\n",
       "      <td>4.49</td>\n",
       "      <td>0439358078</td>\n",
       "      <td>9780439358071</td>\n",
       "      <td>eng</td>\n",
       "      <td>870</td>\n",
       "      <td>2153167</td>\n",
       "      <td>29221</td>\n",
       "      <td>9/1/2004</td>\n",
       "      <td>Scholastic Inc.</td>\n",
       "    </tr>\n",
       "    <tr>\n",
       "      <th>2</th>\n",
       "      <td>4</td>\n",
       "      <td>Harry Potter and the Chamber of Secrets (Harry...</td>\n",
       "      <td>J.K. Rowling</td>\n",
       "      <td>4.42</td>\n",
       "      <td>0439554896</td>\n",
       "      <td>9780439554893</td>\n",
       "      <td>eng</td>\n",
       "      <td>352</td>\n",
       "      <td>6333</td>\n",
       "      <td>244</td>\n",
       "      <td>11/1/2003</td>\n",
       "      <td>Scholastic</td>\n",
       "    </tr>\n",
       "    <tr>\n",
       "      <th>3</th>\n",
       "      <td>5</td>\n",
       "      <td>Harry Potter and the Prisoner of Azkaban (Harr...</td>\n",
       "      <td>J.K. Rowling/Mary GrandPré</td>\n",
       "      <td>4.56</td>\n",
       "      <td>043965548X</td>\n",
       "      <td>9780439655484</td>\n",
       "      <td>eng</td>\n",
       "      <td>435</td>\n",
       "      <td>2339585</td>\n",
       "      <td>36325</td>\n",
       "      <td>5/1/2004</td>\n",
       "      <td>Scholastic Inc.</td>\n",
       "    </tr>\n",
       "    <tr>\n",
       "      <th>4</th>\n",
       "      <td>8</td>\n",
       "      <td>Harry Potter Boxed Set  Books 1-5 (Harry Potte...</td>\n",
       "      <td>J.K. Rowling/Mary GrandPré</td>\n",
       "      <td>4.78</td>\n",
       "      <td>0439682584</td>\n",
       "      <td>9780439682589</td>\n",
       "      <td>eng</td>\n",
       "      <td>2690</td>\n",
       "      <td>41428</td>\n",
       "      <td>164</td>\n",
       "      <td>9/13/2004</td>\n",
       "      <td>Scholastic</td>\n",
       "    </tr>\n",
       "    <tr>\n",
       "      <th>...</th>\n",
       "      <td>...</td>\n",
       "      <td>...</td>\n",
       "      <td>...</td>\n",
       "      <td>...</td>\n",
       "      <td>...</td>\n",
       "      <td>...</td>\n",
       "      <td>...</td>\n",
       "      <td>...</td>\n",
       "      <td>...</td>\n",
       "      <td>...</td>\n",
       "      <td>...</td>\n",
       "      <td>...</td>\n",
       "    </tr>\n",
       "    <tr>\n",
       "      <th>11118</th>\n",
       "      <td>45631</td>\n",
       "      <td>Expelled from Eden: A William T. Vollmann Reader</td>\n",
       "      <td>William T. Vollmann/Larry McCaffery/Michael He...</td>\n",
       "      <td>4.06</td>\n",
       "      <td>1560254416</td>\n",
       "      <td>9781560254416</td>\n",
       "      <td>eng</td>\n",
       "      <td>512</td>\n",
       "      <td>156</td>\n",
       "      <td>20</td>\n",
       "      <td>12/21/2004</td>\n",
       "      <td>Da Capo Press</td>\n",
       "    </tr>\n",
       "    <tr>\n",
       "      <th>11119</th>\n",
       "      <td>45633</td>\n",
       "      <td>You Bright and Risen Angels</td>\n",
       "      <td>William T. Vollmann</td>\n",
       "      <td>4.08</td>\n",
       "      <td>0140110879</td>\n",
       "      <td>9780140110876</td>\n",
       "      <td>eng</td>\n",
       "      <td>635</td>\n",
       "      <td>783</td>\n",
       "      <td>56</td>\n",
       "      <td>12/1/1988</td>\n",
       "      <td>Penguin Books</td>\n",
       "    </tr>\n",
       "    <tr>\n",
       "      <th>11120</th>\n",
       "      <td>45634</td>\n",
       "      <td>The Ice-Shirt (Seven Dreams #1)</td>\n",
       "      <td>William T. Vollmann</td>\n",
       "      <td>3.96</td>\n",
       "      <td>0140131965</td>\n",
       "      <td>9780140131963</td>\n",
       "      <td>eng</td>\n",
       "      <td>415</td>\n",
       "      <td>820</td>\n",
       "      <td>95</td>\n",
       "      <td>8/1/1993</td>\n",
       "      <td>Penguin Books</td>\n",
       "    </tr>\n",
       "    <tr>\n",
       "      <th>11121</th>\n",
       "      <td>45639</td>\n",
       "      <td>Poor People</td>\n",
       "      <td>William T. Vollmann</td>\n",
       "      <td>3.72</td>\n",
       "      <td>0060878827</td>\n",
       "      <td>9780060878825</td>\n",
       "      <td>eng</td>\n",
       "      <td>434</td>\n",
       "      <td>769</td>\n",
       "      <td>139</td>\n",
       "      <td>2/27/2007</td>\n",
       "      <td>Ecco</td>\n",
       "    </tr>\n",
       "    <tr>\n",
       "      <th>11122</th>\n",
       "      <td>45641</td>\n",
       "      <td>Las aventuras de Tom Sawyer</td>\n",
       "      <td>Mark Twain</td>\n",
       "      <td>3.91</td>\n",
       "      <td>8497646983</td>\n",
       "      <td>9788497646987</td>\n",
       "      <td>spa</td>\n",
       "      <td>272</td>\n",
       "      <td>113</td>\n",
       "      <td>12</td>\n",
       "      <td>5/28/2006</td>\n",
       "      <td>Edimat Libros</td>\n",
       "    </tr>\n",
       "  </tbody>\n",
       "</table>\n",
       "<p>11123 rows × 12 columns</p>\n",
       "</div>"
      ],
      "text/plain": [
       "       bookID                                              title  \\\n",
       "0           1  Harry Potter and the Half-Blood Prince (Harry ...   \n",
       "1           2  Harry Potter and the Order of the Phoenix (Har...   \n",
       "2           4  Harry Potter and the Chamber of Secrets (Harry...   \n",
       "3           5  Harry Potter and the Prisoner of Azkaban (Harr...   \n",
       "4           8  Harry Potter Boxed Set  Books 1-5 (Harry Potte...   \n",
       "...       ...                                                ...   \n",
       "11118   45631   Expelled from Eden: A William T. Vollmann Reader   \n",
       "11119   45633                        You Bright and Risen Angels   \n",
       "11120   45634                    The Ice-Shirt (Seven Dreams #1)   \n",
       "11121   45639                                        Poor People   \n",
       "11122   45641                        Las aventuras de Tom Sawyer   \n",
       "\n",
       "                                                 authors  average_rating  \\\n",
       "0                             J.K. Rowling/Mary GrandPré            4.57   \n",
       "1                             J.K. Rowling/Mary GrandPré            4.49   \n",
       "2                                           J.K. Rowling            4.42   \n",
       "3                             J.K. Rowling/Mary GrandPré            4.56   \n",
       "4                             J.K. Rowling/Mary GrandPré            4.78   \n",
       "...                                                  ...             ...   \n",
       "11118  William T. Vollmann/Larry McCaffery/Michael He...            4.06   \n",
       "11119                                William T. Vollmann            4.08   \n",
       "11120                                William T. Vollmann            3.96   \n",
       "11121                                William T. Vollmann            3.72   \n",
       "11122                                         Mark Twain            3.91   \n",
       "\n",
       "             isbn         isbn13 language_code    num_pages  ratings_count  \\\n",
       "0      0439785960  9780439785969           eng          652        2095690   \n",
       "1      0439358078  9780439358071           eng          870        2153167   \n",
       "2      0439554896  9780439554893           eng          352           6333   \n",
       "3      043965548X  9780439655484           eng          435        2339585   \n",
       "4      0439682584  9780439682589           eng         2690          41428   \n",
       "...           ...            ...           ...          ...            ...   \n",
       "11118  1560254416  9781560254416           eng          512            156   \n",
       "11119  0140110879  9780140110876           eng          635            783   \n",
       "11120  0140131965  9780140131963           eng          415            820   \n",
       "11121  0060878827  9780060878825           eng          434            769   \n",
       "11122  8497646983  9788497646987           spa          272            113   \n",
       "\n",
       "       text_reviews_count publication_date        publisher  \n",
       "0                   27591        9/16/2006  Scholastic Inc.  \n",
       "1                   29221         9/1/2004  Scholastic Inc.  \n",
       "2                     244        11/1/2003       Scholastic  \n",
       "3                   36325         5/1/2004  Scholastic Inc.  \n",
       "4                     164        9/13/2004       Scholastic  \n",
       "...                   ...              ...              ...  \n",
       "11118                  20       12/21/2004    Da Capo Press  \n",
       "11119                  56        12/1/1988    Penguin Books  \n",
       "11120                  95         8/1/1993    Penguin Books  \n",
       "11121                 139        2/27/2007             Ecco  \n",
       "11122                  12        5/28/2006    Edimat Libros  \n",
       "\n",
       "[11123 rows x 12 columns]"
      ]
     },
     "execution_count": 19,
     "metadata": {},
     "output_type": "execute_result"
    }
   ],
   "source": [
    "import pandas as pd\n",
    "dat_raw = pd.read_csv(\"dat//books.csv\", error_bad_lines=False)\n",
    "\n",
    "dat_raw\n",
    "\n",
    "# there are errors in the file - skip the lines with errors"
   ]
  },
  {
   "cell_type": "markdown",
   "metadata": {},
   "source": [
    "Let's inspect the data first and do a bit of cleaning"
   ]
  },
  {
   "cell_type": "code",
   "execution_count": 22,
   "metadata": {},
   "outputs": [
    {
     "data": {
      "image/png": "[encoded data removed]",
      "text/plain": [
       "<Figure size 1152x288 with 1 Axes>"
      ]
     },
     "metadata": {
      "needs_background": "light"
     },
     "output_type": "display_data"
    }
   ],
   "source": [
    "import matplotlib.pyplot as plt\n",
    "import seaborn as sns\n",
    "\n",
    "plt.figure(figsize=(16,4))\n",
    "ax = sns.countplot(x=dat_raw.language_code, data=dat_raw) #interesting - there are three different english language tags"
   ]
  },
  {
   "cell_type": "code",
   "execution_count": 23,
   "metadata": {},
   "outputs": [],
   "source": [
    "dat = dat_raw.loc[dat_raw['language_code'].isin(['eng', 'en-US', 'en-GB', 'en-CA'])].reset_index() # gets rid of books that haven't been reviewed much and books in non-english languages"
   ]
  },
  {
   "cell_type": "markdown",
   "metadata": {},
   "source": [
    "Let's plot number of votes by rating score to see where the number of votes starts to introduce a lot of variance in ratings. \n",
    "\n",
    "- It looks like things start to look normal-ish after about 15 ratings. Below that you get a lot of 5 and 1 average ratings"
   ]
  },
  {
   "cell_type": "code",
   "execution_count": 44,
   "metadata": {},
   "outputs": [
    {
     "data": {
      "text/plain": [
       "<matplotlib.collections.PathCollection at 0x1b3ea06ea90>"
      ]
     },
     "execution_count": 44,
     "metadata": {},
     "output_type": "execute_result"
    },
    {
     "data": {
      "image/png": "[encoded data removed]",
      "text/plain": [
       "<Figure size 432x288 with 1 Axes>"
      ]
     },
     "metadata": {
      "needs_background": "light"
     },
     "output_type": "display_data"
    }
   ],
   "source": [
    "plt.hist('ratings_count', data = dat[dat['ratings_count'] < 500])\n",
    "\n",
    "plt.scatter('ratings_count', 'average_rating', data = dat[dat['ratings_count'] < 500])\n",
    "\n",
    "plt.scatter('ratings_count', 'average_rating', data = dat[dat['ratings_count'] < 30])\n"
   ]
  },
  {
   "cell_type": "code",
   "execution_count": null,
   "metadata": {},
   "outputs": [],
   "source": []
  },
  {
   "cell_type": "markdown",
   "metadata": {},
   "source": [
    "## Popularity-based Recommender\n",
    "Create a function named Popularity Recommender and use it to recommend books based on popularity.\n",
    "Use a weighted rank similar to that used in the IMDB rating example in Lesson 2."
   ]
  },
  {
   "cell_type": "code",
   "execution_count": 66,
   "metadata": {},
   "outputs": [],
   "source": [
    "def pop_rec(dat, n):\n",
    "\n",
    "    m = 15, \n",
    "\n",
    "    C = dat['average_rating'].mean()\n",
    "\n",
    "    dat['wr'] = ((dat['ratings_count'] / (dat['ratings_count'] + m))*dat['average_rating']) + ((m / (dat['ratings_count'] + m))*C)\n",
    "\n",
    "    recs = dat.sort_values('wr', ascending=False).head(n).loc[:, ['title', 'average_rating']]\n",
    "\n",
    "    print('The ' + str(n) + ' most popular books in the data are: ')\n",
    "\n",
    "    print(recs.to_string(index = False))\n",
    "\n"
   ]
  },
  {
   "cell_type": "markdown",
   "metadata": {},
   "source": [
    "Who comes out on top in this ratings system?"
   ]
  },
  {
   "cell_type": "code",
   "execution_count": 67,
   "metadata": {},
   "outputs": [
    {
     "name": "stdout",
     "output_type": "stream",
     "text": [
      "The 10 most popular books in the data are: \n",
      "                                                             title  average_rating\n",
      "                                    The Complete Calvin and Hobbes            4.82\n",
      "            Harry Potter Boxed Set  Books 1-5 (Harry Potter  #1-5)            4.78\n",
      "                     It's a Magical World (Calvin and Hobbes  #11)            4.76\n",
      "                      Harry Potter Collection (Harry Potter  #1-6)            4.73\n",
      "                Homicidal Psycho Jungle Cat (Calvin and Hobbes #9)            4.72\n",
      "Calvin and Hobbes: Sunday Pages 1985-1995: An Exhibition Catalogue            4.71\n",
      "                                                  Study Bible: NIV            4.70\n",
      "                    The Complete Aubrey/Maturin Novels (5 Volumes)            4.70\n",
      "                                          The Days Are Just Packed            4.69\n",
      "          The Sibley Field Guide to Birds of Western North America            4.69\n"
     ]
    }
   ],
   "source": [
    "pop_rec(dat, 10)"
   ]
  },
  {
   "cell_type": "markdown",
   "metadata": {},
   "source": [
    "## Content-based Recommender\n",
    "Create a function named Content-based Recommender and use it to recommend books based on content."
   ]
  },
  {
   "cell_type": "code",
   "execution_count": 69,
   "metadata": {},
   "outputs": [],
   "source": [
    "from sklearn.metrics.pairwise import linear_kernel\n",
    "from sklearn.feature_extraction.text import TfidfVectorizer"
   ]
  },
  {
   "cell_type": "markdown",
   "metadata": {},
   "source": [
    "### TF-IDF Vectorizer\n",
    "Use TF-IDF Vectorizer on the author data for each book.\n",
    "\n",
    "The TD-IDF Vectorizer takes as its input a series of strings, and returns a collection of distance vectors"
   ]
  },
  {
   "cell_type": "code",
   "execution_count": 73,
   "metadata": {},
   "outputs": [],
   "source": [
    "# assign stop words - words not to include in vectorization. This is the dictionary of english stop words, like \"the\".\n",
    "\n",
    "cbr = TfidfVectorizer(stop_words='english')\n",
    "\n",
    "# Train vectorizer on title\n",
    "\n",
    "tfidf_matrix = cbr.fit_transform(dat['title'])\n",
    "\n",
    "# turn titles into distance vector\n",
    "\n",
    "distance_matrix = linear_kernel(tfidf_matrix)\n",
    "\n",
    "# we need to make a new index so we can reference it in our function. We move the titles into the index and drop duplicate titles\n",
    "\n",
    "ind = pd.Series(dat.index, index=dat['title']).drop_duplicates()\n"
   ]
  },
  {
   "cell_type": "code",
   "execution_count": 91,
   "metadata": {},
   "outputs": [],
   "source": [
    "# Take the re-indexed dataset, find the most similar titles to a given title, and return the nearest matches\n",
    "\n",
    "def con_rec_title(dat, title, ind, distance_matrix, n):\n",
    "    id = ind[title] # pull the index for our chosen book\n",
    "    distances = list(enumerate(distance_matrix[id])) # pull all distance meaures for our chosen book\n",
    "    distances = sorted(distances, key = lambda x: x[1], reverse=True) # sort distances according to similarity to our title\n",
    "    distances = distances[1:n+1] # we don't want to return the first element because it will be itself\n",
    "    rec_rows = [distance[0] for distance in distances] # for each distance in distances, return the row number for the recommendation\n",
    "    recs = dat['title'].iloc[rec_rows]\n",
    "    print('The ' + str(n) + ' most similar titles in the data are: ')\n",
    "    print(recs.to_string(index = False))\n",
    "    "
   ]
  },
  {
   "cell_type": "code",
   "execution_count": 92,
   "metadata": {},
   "outputs": [
    {
     "name": "stdout",
     "output_type": "stream",
     "text": [
      "The 10 most similar titles in the data are: \n",
      "                           For Whom the Bell Tolls\n",
      "                                    Iceland's Bell\n",
      "             The Liberty Bell (Symbols of America)\n",
      "Desert Queen: The Extraordinary Life of Gertrud...\n",
      "Harry Potter and the Half-Blood Prince (Harry P...\n",
      "Harry Potter and the Order of the Phoenix (Harr...\n",
      "Harry Potter and the Chamber of Secrets (Harry ...\n",
      "Harry Potter and the Prisoner of Azkaban (Harry...\n",
      "Harry Potter Boxed Set  Books 1-5 (Harry Potter...\n",
      "Unauthorized Harry Potter Book Seven News: \"Hal...\n"
     ]
    }
   ],
   "source": [
    "con_rec_title(dat, \"For Whom the Bell Tolls\", ind, distance_matrix, 10)"
   ]
  },
  {
   "cell_type": "markdown",
   "metadata": {},
   "source": [
    "### Distance matrix\n",
    "Choose cosine similarity for pairwise distances comparison"
   ]
  },
  {
   "cell_type": "code",
   "execution_count": 97,
   "metadata": {},
   "outputs": [],
   "source": [
    "from sklearn.metrics.pairwise import cosine_similarity\n",
    "\n",
    "# assign stop words again\n",
    "\n",
    "cbr = TfidfVectorizer(stop_words='english')\n",
    "\n",
    "tfidf_matrix = cbr.fit_transform(dat['authors'])\n",
    "\n",
    "distance_matrix = cosine_similarity(tfidf_matrix) # this time we use cosine similarity, a meaure of the angle between the tfidf vectors, to measure distance\n",
    "\n",
    "dat = dat.drop_duplicates(subset='authors' ) # re-create indices \n",
    "ind = pd.Series(dat.index, index = dat['authors']).drop_duplicates(keep = \"first\", inplace = False)\n",
    "\n",
    "\n"
   ]
  },
  {
   "cell_type": "code",
   "execution_count": 98,
   "metadata": {},
   "outputs": [],
   "source": [
    "def con_rec_auth(dat, author, ind, distance_matrix, n):\n",
    "    id = ind[author] # pull the index for our chosen book\n",
    "    distances = list(enumerate(distance_matrix[id])) # pull all distance meaures for our chosen book\n",
    "    distances = sorted(distances, key = lambda x: x[1], reverse=True) # sort distances according to similarity to our title\n",
    "    distances = distances[1:n+1] # we don't want to return the first element because it will be itself\n",
    "    rec_rows = [distance[0] for distance in distances] # for each distance in distances, return the row number for the recommendation\n",
    "    recs = dat['authors'].iloc[rec_rows]\n",
    "    print('The ' + str(n) + ' most similar authors in the data are: ')\n",
    "    print(recs.to_string(index = False))"
   ]
  },
  {
   "cell_type": "code",
   "execution_count": 104,
   "metadata": {},
   "outputs": [
    {
     "name": "stdout",
     "output_type": "stream",
     "text": [
      "The 5 most similar authors in the data are: \n",
      "   Bernard Malamud/Robert Giroux\n",
      "  Bernard Malamud/Jonathan Rosen\n",
      "   Diane Waldman/Bernard Malamud\n",
      "   Bernard Malamud/Jhumpa Lahiri\n",
      "Bernard Malamud/Aleksandar Hemon\n"
     ]
    }
   ],
   "source": [
    "con_rec_auth(dat, \"Don DeLillo\", ind, distance_matrix, 5) # note that if I were designing this I would try to split the co-authored books"
   ]
  }
 ],
 "metadata": {
  "interpreter": {
   "hash": "114c2fdb226e4dc103f00c2512f291967d93737a0d1ce45be4aa564dac2afe8e"
  },
  "kernelspec": {
   "display_name": "Python 3.9.7 ('base')",
   "language": "python",
   "name": "python3"
  },
  "language_info": {
   "codemirror_mode": {
    "name": "ipython",
    "version": 3
   },
   "file_extension": ".py",
   "mimetype": "text/x-python",
   "name": "python",
   "nbconvert_exporter": "python",
   "pygments_lexer": "ipython3",
   "version": "3.9.7"
  },
  "orig_nbformat": 4
 },
 "nbformat": 4,
 "nbformat_minor": 2
}
