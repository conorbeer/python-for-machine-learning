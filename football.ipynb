{
 "cells": [
  {
   "cell_type": "markdown",
   "metadata": {},
   "source": [
    "# Mini-project: football\n",
    "\n",
    "**Skills tested:**\n",
    "- Using Pandas’ programming to read the dataset.\n",
    "- Using Scikit-Learn to preprocess your data.\n",
    "- Data visualization using Matplotlib.\n",
    "\n",
    "**Description**\n",
    "Football is one of the most popular sports in the world. Currently, the hype for the matches cannot be understated, and skilled players have gone beyond celebrity status! In this mini project, you will look at data collected about matches from 1872 to 2019.\n",
    "License: the dataset is CC0: Public Domain and it is publicly available online.\n",
    "\n",
    "Submission of your project on GitHub is optional. If you choose to manage your project using GitHub, find guidelines for using GitHub here. Ensure you are coding using your Jupyter Notebook – it will be uploaded to GitHub when you perform a GIT push operation.\n",
    "\n",
    "**Expected Output**\n",
    "\n",
    "By the end of this mini project, you will need to deliver within your code:\n",
    "- The count of the tuples in the given dataset.\n",
    "- The count of the names of unique tournament names from the attributes.\n",
    "- The count of matches in 2018 from the attributes.\n",
    "- The count of wins, losses, or draws given in the data columns.\n",
    "- An output plot of the pie chart of the wins, losses, or draws.\n",
    "- An output plot of the pie chart of the neutral column in the input dataset.\n",
    "- The count of the names of unique team names from the attributes.\n",
    "\n",
    "You are expected to write around 30 lines of code to complete this project.\n"
   ]
  },
  {
   "cell_type": "markdown",
   "metadata": {},
   "source": [
    "# 1. Download the dataset\n",
    "\n",
    "Download the dataset to your local computer in the project directory of your choice.\n",
    "results.csv includes the following columns:\n",
    "date - date of the match home_team - the name of the home team away_team - the name of the away team home_score - full-time home team score including extra time, not including penalty-shootouts away_score - full-time away team score including extra time, not including penalty-shootouts tournament - the name of the tournament city - the name of the city/town/administrative unit where the match was played country - the name of the country where the match was played neutral - TRUE/FALSE column indicating whether the match was played at a neutral venue\n",
    "Note on team and country names:\n",
    "For home and away teams the current name of the team has been used. For example, when in 1882 a team who called themselves Ireland played against England, in this dataset, it is called Northern Ireland because the current team of Northern Ireland is the successor of the 1882 Ireland team. This is done so it is easier to track the history and statistics of teams.\n",
    "For country names, the name of the country at the time of the match is used. So when Ghana played in Accra, Gold Coast in the 1950s, even though the names of the home team and the country don't match, it was a home match for Ghana. This is indicated by the neutral column, which says FALSE for those matches, meaning it was not at a neutral venue."
   ]
  },
  {
   "cell_type": "code",
   "execution_count": null,
   "metadata": {},
   "outputs": [],
   "source": [
    "import pandas as pd\n",
    "\n",
    "dat = pd.read_csv(\"results.csv\")\n",
    "\n",
    "dat \n"
   ]
  },
  {
   "cell_type": "markdown",
   "metadata": {},
   "source": [
    "What do the data look like?"
   ]
  },
  {
   "cell_type": "code",
   "execution_count": null,
   "metadata": {},
   "outputs": [],
   "source": [
    "dat.info()\n",
    "\n",
    "dat.describe()\n",
    "\n",
    "dat.value_counts()"
   ]
  },
  {
   "cell_type": "markdown",
   "metadata": {},
   "source": [
    "Let's drop any rows with missing values"
   ]
  },
  {
   "cell_type": "code",
   "execution_count": null,
   "metadata": {},
   "outputs": [],
   "source": [
    "dat = dat.dropna()"
   ]
  },
  {
   "cell_type": "markdown",
   "metadata": {},
   "source": [
    "## Exploring the dataset\n",
    "\n",
    "_How many tuples are there?_\n",
    "\n",
    "There are 42650"
   ]
  },
  {
   "cell_type": "code",
   "execution_count": null,
   "metadata": {},
   "outputs": [],
   "source": [
    "len(dat)"
   ]
  },
  {
   "cell_type": "markdown",
   "metadata": {},
   "source": [
    "_How many tournaments?_\n",
    "\n",
    "120, counting all 'friendly' matches as a tournament"
   ]
  },
  {
   "cell_type": "code",
   "execution_count": null,
   "metadata": {},
   "outputs": [],
   "source": [
    "len(dat.tournament.unique())"
   ]
  },
  {
   "cell_type": "markdown",
   "metadata": {},
   "source": [
    "## Convert and deduce\n",
    "\n",
    "_Convert the column date to timestamps_"
   ]
  },
  {
   "cell_type": "code",
   "execution_count": null,
   "metadata": {},
   "outputs": [],
   "source": [
    "dat['date'] = pd.to_datetime(dat['date'])\n",
    "\n",
    "dat['date']\n"
   ]
  },
  {
   "cell_type": "markdown",
   "metadata": {},
   "source": [
    "_Find out how many matches were played in 2018_\n",
    "\n",
    "908 matches were played in 2018"
   ]
  },
  {
   "cell_type": "code",
   "execution_count": null,
   "metadata": {},
   "outputs": [],
   "source": [
    "len(dat[(dat['date'] >= '2018-01-01') & (dat['date'] <= '2018-12-31')])"
   ]
  },
  {
   "cell_type": "markdown",
   "metadata": {},
   "source": [
    "## Team statistics\n",
    "\n",
    "_Calculate how many times the home team won, lost, or had a draw._\n"
   ]
  },
  {
   "cell_type": "code",
   "execution_count": null,
   "metadata": {},
   "outputs": [],
   "source": [
    "home_wins = dat[dat['home_score']>dat['away_score']]\n",
    "\n",
    "away_wins = dat[dat['away_score']>dat['home_score']]\n",
    "\n",
    "ties = dat[dat['away_score']>dat['home_score']]\n",
    "\n",
    "wins = {'home':len(home_wins), \n",
    "        'away':len(away_wins),\n",
    "        'tie': len(ties)}\n",
    "\n",
    "games = len(dat)\n",
    "\n",
    "print(wins)"
   ]
  },
  {
   "cell_type": "markdown",
   "metadata": {},
   "source": [
    "## Visualization\n",
    "\n",
    "_Plot the numbers extracted from Step 5 in a pie chart._"
   ]
  },
  {
   "cell_type": "code",
   "execution_count": null,
   "metadata": {},
   "outputs": [],
   "source": [
    "import matplotlib.pyplot as plt\n",
    "\n",
    "labels = list(dict.keys(wins))\n",
    "\n",
    "values = list(dict.values(wins))\n",
    "\n",
    "for i in range(len(values)):\n",
    "    values[i] = (values[i] / games)*100\n",
    "\n"
   ]
  },
  {
   "cell_type": "code",
   "execution_count": null,
   "metadata": {},
   "outputs": [],
   "source": [
    "plt.figure()\n",
    "plt.pie(x=values, labels = labels)\n"
   ]
  },
  {
   "cell_type": "markdown",
   "metadata": {},
   "source": [
    "_Plot the neutral column as a pie chart_\n",
    "\n"
   ]
  },
  {
   "cell_type": "code",
   "execution_count": 124,
   "metadata": {},
   "outputs": [
    {
     "data": {
      "text/plain": [
       "<AxesSubplot:ylabel='games'>"
      ]
     },
     "execution_count": 124,
     "metadata": {},
     "output_type": "execute_result"
    },
    {
     "data": {
      "image/png": "[encoded data removed]",
      "text/plain": [
       "<Figure size 432x288 with 1 Axes>"
      ]
     },
     "metadata": {},
     "output_type": "display_data"
    }
   ],
   "source": [
    "dat['games'] = 1\n",
    "\n",
    "summary = dat.groupby(dat.neutral).sum()\n",
    "\n",
    "summary.plot.pie(y = 'games')\n"
   ]
  },
  {
   "cell_type": "markdown",
   "metadata": {},
   "source": [
    "## Unique teams\n",
    "\n",
    "_How many unique teams are there in the dataset? Find out!_\n",
    "\n",
    "There are 313\n"
   ]
  },
  {
   "cell_type": "code",
   "execution_count": 133,
   "metadata": {},
   "outputs": [
    {
     "data": {
      "text/plain": [
       "313"
      ]
     },
     "execution_count": 133,
     "metadata": {},
     "output_type": "execute_result"
    }
   ],
   "source": [
    "# Bind the list of home teams and away teams\n",
    "\n",
    "home_teams = dat['home_team']\n",
    "\n",
    "away_teams = dat['away_team']\n",
    "\n",
    "teams = pd.concat([home_teams, away_teams])\n",
    "\n",
    "# find the length of the unique list\n",
    "\n",
    "len(teams.unique())\n"
   ]
  },
  {
   "cell_type": "code",
   "execution_count": null,
   "metadata": {},
   "outputs": [],
   "source": []
  }
 ],
 "metadata": {
  "interpreter": {
   "hash": "114c2fdb226e4dc103f00c2512f291967d93737a0d1ce45be4aa564dac2afe8e"
  },
  "kernelspec": {
   "display_name": "Python 3.9.7 ('base')",
   "language": "python",
   "name": "python3"
  },
  "language_info": {
   "codemirror_mode": {
    "name": "ipython",
    "version": 3
   },
   "file_extension": ".py",
   "mimetype": "text/x-python",
   "name": "python",
   "nbconvert_exporter": "python",
   "pygments_lexer": "ipython3",
   "version": "3.9.7"
  },
  "orig_nbformat": 4
 },
 "nbformat": 4,
 "nbformat_minor": 2
}
